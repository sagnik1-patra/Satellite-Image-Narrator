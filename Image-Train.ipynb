{
 "cells": [
  {
   "cell_type": "code",
   "execution_count": 1,
   "id": "fec5ce4a-843f-45d6-8a31-2e6dd1b4a2c7",
   "metadata": {},
   "outputs": [
    {
     "name": "stdout",
     "output_type": "stream",
     "text": [
      "✅ Files saved:\n",
      " - C:\\Users\\sagni\\Downloads\\Satellite Image Narrator\\ndvi_change_amazon.h5\n",
      " - C:\\Users\\sagni\\Downloads\\Satellite Image Narrator\\ndvi_change_amazon.pkl\n",
      " - C:\\Users\\sagni\\Downloads\\Satellite Image Narrator\\ndvi_change_amazon.yaml\n"
     ]
    }
   ],
   "source": [
    "import os\n",
    "import numpy as np\n",
    "import h5py\n",
    "import rasterio\n",
    "import yaml\n",
    "import pickle\n",
    "\n",
    "# 📂 Paths\n",
    "base_path = r\"C:\\Users\\sagni\\Downloads\\Satellite Image Narrator\"\n",
    "tif_path = os.path.join(base_path, \"ndvi_change_amazon.tif\")\n",
    "h5_path = os.path.join(base_path, \"ndvi_change_amazon.h5\")\n",
    "pkl_path = os.path.join(base_path, \"ndvi_change_amazon.pkl\")\n",
    "yaml_path = os.path.join(base_path, \"ndvi_change_amazon.yaml\")\n",
    "\n",
    "# 📥 Load GeoTIFF using rasterio\n",
    "with rasterio.open(tif_path) as src:\n",
    "    image = src.read(1)  # Only one band (NDVI change)\n",
    "    profile = src.profile\n",
    "\n",
    "# 🧼 Clean and normalize data (optional)\n",
    "image = np.nan_to_num(image, nan=0.0)  # Replace NaNs\n",
    "min_val, max_val = image.min(), image.max()\n",
    "norm_image = (image - min_val) / (max_val - min_val + 1e-8)  # Normalize to 0–1\n",
    "\n",
    "# 💾 Save as .h5\n",
    "with h5py.File(h5_path, 'w') as hf:\n",
    "    hf.create_dataset(\"ndvi_change\", data=norm_image)\n",
    "\n",
    "# 💾 Save as .pkl\n",
    "with open(pkl_path, 'wb') as f:\n",
    "    pickle.dump(norm_image, f)\n",
    "\n",
    "# 💾 Save metadata as .yaml\n",
    "metadata = {\n",
    "    'file': 'ndvi_change_amazon.tif',\n",
    "    'shape': norm_image.shape,\n",
    "    'min_value': float(min_val),\n",
    "    'max_value': float(max_val),\n",
    "    'description': 'NDVI change between June 2020 and June 2025 for selected AOI.',\n",
    "    'normalized': True\n",
    "}\n",
    "with open(yaml_path, 'w') as f:\n",
    "    yaml.dump(metadata, f)\n",
    "\n",
    "print(\"✅ Files saved:\")\n",
    "print(\" -\", h5_path)\n",
    "print(\" -\", pkl_path)\n",
    "print(\" -\", yaml_path)\n"
   ]
  },
  {
   "cell_type": "code",
   "execution_count": null,
   "id": "2a47271d-89f5-4520-96d3-0540bb6f1710",
   "metadata": {},
   "outputs": [],
   "source": []
  }
 ],
 "metadata": {
  "kernelspec": {
   "display_name": "Python 3.11 (moviepy)",
   "language": "python",
   "name": "py311"
  },
  "language_info": {
   "codemirror_mode": {
    "name": "ipython",
    "version": 3
   },
   "file_extension": ".py",
   "mimetype": "text/x-python",
   "name": "python",
   "nbconvert_exporter": "python",
   "pygments_lexer": "ipython3",
   "version": "3.11.9"
  }
 },
 "nbformat": 4,
 "nbformat_minor": 5
}
