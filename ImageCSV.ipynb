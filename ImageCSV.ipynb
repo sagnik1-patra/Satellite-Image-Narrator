{
 "cells": [
  {
   "cell_type": "code",
   "execution_count": 1,
   "id": "9289e64a-2bac-41a1-997f-0c58fb060ee5",
   "metadata": {},
   "outputs": [
    {
     "name": "stdout",
     "output_type": "stream",
     "text": [
      "✅ CSV saved at: C:\\Users\\sagni\\Downloads\\Satellite Image Narrator\\ndvi_change_amazon.csv\n"
     ]
    }
   ],
   "source": [
    "import os\n",
    "import numpy as np\n",
    "import pandas as pd\n",
    "import rasterio\n",
    "\n",
    "# 📂 Paths\n",
    "base_path = r\"C:\\Users\\sagni\\Downloads\\Satellite Image Narrator\"\n",
    "tif_path = os.path.join(base_path, \"ndvi_change_amazon.tif\")\n",
    "csv_path = os.path.join(base_path, \"ndvi_change_amazon.csv\")\n",
    "\n",
    "# 📥 Load the GeoTIFF\n",
    "with rasterio.open(tif_path) as src:\n",
    "    image = src.read(1)  # Read first band\n",
    "    image = np.nan_to_num(image, nan=0.0)  # Replace NaNs\n",
    "\n",
    "# 🧾 Convert to DataFrame\n",
    "rows, cols = image.shape\n",
    "data = []\n",
    "\n",
    "for row in range(rows):\n",
    "    for col in range(cols):\n",
    "        value = image[row, col]\n",
    "        data.append([row, col, value])\n",
    "\n",
    "df = pd.DataFrame(data, columns=['row', 'col', 'ndvi_change'])\n",
    "\n",
    "# 💾 Save as CSV\n",
    "df.to_csv(csv_path, index=False)\n",
    "\n",
    "print(\"✅ CSV saved at:\", csv_path)\n"
   ]
  },
  {
   "cell_type": "code",
   "execution_count": null,
   "id": "507607b3-1770-435f-8e59-3cdbe5d3fd78",
   "metadata": {},
   "outputs": [],
   "source": []
  }
 ],
 "metadata": {
  "kernelspec": {
   "display_name": "Python 3.11 (moviepy)",
   "language": "python",
   "name": "py311"
  },
  "language_info": {
   "codemirror_mode": {
    "name": "ipython",
    "version": 3
   },
   "file_extension": ".py",
   "mimetype": "text/x-python",
   "name": "python",
   "nbconvert_exporter": "python",
   "pygments_lexer": "ipython3",
   "version": "3.11.9"
  }
 },
 "nbformat": 4,
 "nbformat_minor": 5
}
